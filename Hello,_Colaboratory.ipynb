!ls
!cat /proc/cpuinfo
!cat /proc/meminfo

num= False
if num == False:
  print("This is inside if block")
else:
  print("This is else block")
print("This is outside if code block")
